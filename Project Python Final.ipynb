{
 "cells": [
  {
   "cell_type": "code",
   "execution_count": 336,
   "id": "f9f387a8-f32c-440b-a234-73710d18282b",
   "metadata": {},
   "outputs": [],
   "source": [
    "import pandas as pd"
   ]
  },
  {
   "cell_type": "code",
   "execution_count": 444,
   "id": "d34a223e-7b68-4779-81b1-b5965c2ea000",
   "metadata": {},
   "outputs": [],
   "source": [
    "class Transaction:\n",
    "    def __init__(self):\n",
    "        '''\n",
    "        Fungsi menginisialisasi dictionary item barang\n",
    "        '''\n",
    "        self.supermarket = dict()\n",
    "    def add_item(self, nama, qty, price):\n",
    "        '''\n",
    "        Fungsi menambahkan nama item belanja\n",
    "        \n",
    "        parameters\n",
    "        nama  : str nama item yang dibeli\n",
    "        qty   : int jumlah item yang dibeli\n",
    "        price : int harga per-item\n",
    "        '''\n",
    "        self.supermarket.update({nama:[qty, price,(qty*price)]})\n",
    "        \n",
    "    def update_item_qty(self,nama, qty_baru):\n",
    "        '''\n",
    "        Fungsi untuk memperbarui jumlah item yang di record yang telah ada \n",
    "        \n",
    "        parameters\n",
    "        nama     : str nama item yang akan di perbarui\n",
    "        qty_baru : int jumlah item terbaru\n",
    "        '''\n",
    "        self.supermarket[nama][0] = qty_baru\n",
    "        self.supermarket[nama][2] = self.supermarket[nama][0]*self.supermarket[nama][1]\n",
    "        \n",
    "    def update_item_price(self,nama, price_baru):\n",
    "        '''\n",
    "        Fungsi untuk memperbarui harga item yang di record yang telah ada \n",
    "        \n",
    "        parameters\n",
    "        nama       : str nama item yang akan di perbarui\n",
    "        price_baru : int harga item terbaru\n",
    "        '''\n",
    "        self.supermarket[nama][1] = price_baru\n",
    "        self.supermarket[nama][2] = self.supermarket[nama][0]*self.supermarket[nama][1]\n",
    "        \n",
    "        \n",
    "    def update_item_name(self, nama, nama_baru):\n",
    "        '''\n",
    "        Fungsi untuk memperbarui nama item yang di record yang telah ada \n",
    "        \n",
    "        parameters\n",
    "        nama       : str nama item yang akan di perbarui\n",
    "        nama_baru  : str nama item terbaru\n",
    "        '''\n",
    "        temp = self.supermarket[nama]\n",
    "        self.supermarket.pop(nama)\n",
    "        self.supermarket.update({nama_baru: temp})\n",
    "        \n",
    "    def reset_transaction(self):\n",
    "        '''\n",
    "        Fungsi untuk mereset nama item yang di record yang telah ada \n",
    "        '''\n",
    "        self.supermarket.clear()\n",
    "            \n",
    "    def delete_item(self, nama):\n",
    "        if(self.supermarket[nama][1]== 0): #berjalan jika tidak ada barang belanjaan\n",
    "            print(\"Item tidak ada yang dibeli\")\n",
    "        else:\n",
    "            #update jumlah item yang ada di library (supermarket)\n",
    "            self.supermarket.pop(nama)\n",
    "                \n",
    "    def check_order(self):\n",
    "        '''\n",
    "        Fungsi untuk mengecek item yang di record\n",
    "        '''\n",
    "        if(len(self.supermarket)==0):\n",
    "            print('Tidak ada belanjaan')\n",
    "        else:\n",
    "            data = pd.DataFrame(self.supermarket).T\n",
    "            data.index.name='Nama item'\n",
    "            data.columns =['Jumlah item','Harga item','Total']\n",
    "            print(data.to_markdown())\n",
    "            \n",
    "    def total_price(self):\n",
    "        '''\n",
    "        Fungsi untuk menjumlahkan harga dengan beberapa kondisi\n",
    "        '''\n",
    "        self.total = 0\n",
    "        for item in self.supermarket.keys():\n",
    "            self.total+= (self.supermarket[item][0])*(self.supermarket[item][1])\n",
    "        print(f'Total belanjaan sebelum diskon adalah Rp {self.total}')\n",
    "        if self.total > 500_000:\n",
    "            self.total = (90/100)*self.total\n",
    "            print(f' Total belanjaan setelah diskon adalah Rp {self.total}')\n",
    "        elif self.total > 300_000:\n",
    "            self.total = (92/100)*self.total\n",
    "            print(f' Total belanjaan setelah diskon adalah Rp {self.total}')\n",
    "        elif self.total > 200_000:\n",
    "            self.total = (95/100)*self.total\n",
    "            print(f' Total belanjaan setelah diskon adalah Rp {self.total}')"
   ]
  },
  {
   "cell_type": "code",
   "execution_count": 445,
   "id": "12aa3fe0-8ba4-4a16-9de3-27eba80fa038",
   "metadata": {},
   "outputs": [],
   "source": [
    "super1 = Transaction()"
   ]
  },
  {
   "cell_type": "code",
   "execution_count": 446,
   "id": "0c921e82-670d-441d-ba7d-cd4c1662f989",
   "metadata": {},
   "outputs": [
    {
     "name": "stdout",
     "output_type": "stream",
     "text": [
      "| Nama item   |   Jumlah item |   Harga item |   Total |\n",
      "|:------------|--------------:|-------------:|--------:|\n",
      "| Strawberry  |             2 |       110000 |  220000 |\n"
     ]
    }
   ],
   "source": [
    "super1.add_item('Strawberry',2,110_000)\n",
    "super1.check_order()"
   ]
  },
  {
   "cell_type": "code",
   "execution_count": 447,
   "id": "ce1fb5e3-14f4-4f85-8b14-28079a9b562c",
   "metadata": {},
   "outputs": [
    {
     "name": "stdout",
     "output_type": "stream",
     "text": [
      "| Nama item   |   Jumlah item |   Harga item |   Total |\n",
      "|:------------|--------------:|-------------:|--------:|\n",
      "| Strawberry  |             2 |       110000 |  220000 |\n",
      "| Jeruk       |             3 |       110000 |  330000 |\n"
     ]
    }
   ],
   "source": [
    "super1.add_item('Jeruk',3,110_000)\n",
    "super1.check_order()"
   ]
  },
  {
   "cell_type": "code",
   "execution_count": 448,
   "id": "42467daa-dcbf-425f-993a-6e4ec676712d",
   "metadata": {},
   "outputs": [
    {
     "name": "stdout",
     "output_type": "stream",
     "text": [
      "| Nama item   |   Jumlah item |   Harga item |   Total |\n",
      "|:------------|--------------:|-------------:|--------:|\n",
      "| Strawberry  |             2 |       110000 |  220000 |\n",
      "| Jeruk       |             3 |       110000 |  330000 |\n",
      "| Apel        |             2 |        10000 |   20000 |\n"
     ]
    }
   ],
   "source": [
    "super1.add_item('Apel',2,10_000)\n",
    "super1.check_order()"
   ]
  },
  {
   "cell_type": "code",
   "execution_count": 449,
   "id": "b94e33f0-02e7-4ad1-9021-f18a7865930b",
   "metadata": {},
   "outputs": [
    {
     "name": "stdout",
     "output_type": "stream",
     "text": [
      "| Nama item   |   Jumlah item |   Harga item |   Total |\n",
      "|:------------|--------------:|-------------:|--------:|\n",
      "| Strawberry  |             2 |       100000 |  200000 |\n",
      "| Jeruk       |             3 |       110000 |  330000 |\n",
      "| Apel        |             2 |        10000 |   20000 |\n"
     ]
    }
   ],
   "source": [
    "super1.update_item_price('Strawberry',100_000)\n",
    "super1.check_order()"
   ]
  },
  {
   "cell_type": "code",
   "execution_count": 450,
   "id": "fc20b4bc-bfe6-46d3-ae08-a1d773c2ef45",
   "metadata": {},
   "outputs": [
    {
     "name": "stdout",
     "output_type": "stream",
     "text": [
      "| Nama item   |   Jumlah item |   Harga item |   Total |\n",
      "|:------------|--------------:|-------------:|--------:|\n",
      "| Strawberry  |             2 |       100000 |  200000 |\n",
      "| Jeruk       |             4 |       110000 |  440000 |\n",
      "| Apel        |             2 |        10000 |   20000 |\n"
     ]
    }
   ],
   "source": [
    "super1.update_item_qty('Jeruk', 4)\n",
    "super1.check_order()"
   ]
  },
  {
   "cell_type": "code",
   "execution_count": 440,
   "id": "f2e0ad5e-bee7-42e3-ac7f-56c73efcc191",
   "metadata": {},
   "outputs": [
    {
     "name": "stdout",
     "output_type": "stream",
     "text": [
      "| Nama item   |   Jumlah item |   Harga item |   Total |\n",
      "|:------------|--------------:|-------------:|--------:|\n",
      "| Strawberry  |             2 |       100000 |  200000 |\n",
      "| Apel        |             2 |        10000 |   20000 |\n",
      "| Mangga      |             4 |       110000 |  440000 |\n"
     ]
    }
   ],
   "source": [
    "super1.update_item_name('Jeruk', 'Mangga')\n",
    "super1.check_order()"
   ]
  },
  {
   "cell_type": "code",
   "execution_count": 441,
   "id": "789704dd-e15b-4afd-ab38-7a7d1252c6a2",
   "metadata": {},
   "outputs": [
    {
     "name": "stdout",
     "output_type": "stream",
     "text": [
      "| Nama item   |   Jumlah item |   Harga item |   Total |\n",
      "|:------------|--------------:|-------------:|--------:|\n",
      "| Strawberry  |             2 |       100000 |  200000 |\n",
      "| Mangga      |             4 |       110000 |  440000 |\n"
     ]
    }
   ],
   "source": [
    "super1.delete_item('Apel')\n",
    "super1.check_order()"
   ]
  },
  {
   "cell_type": "code",
   "execution_count": 429,
   "id": "d2272b7e-32b1-4091-a063-12dbca53376e",
   "metadata": {},
   "outputs": [
    {
     "name": "stdout",
     "output_type": "stream",
     "text": [
      "Tidak ada belanjaan\n"
     ]
    }
   ],
   "source": [
    "super1.reset_transaction()\n",
    "super1.check_order()"
   ]
  },
  {
   "cell_type": "code",
   "execution_count": 451,
   "id": "9b81512c-2996-4938-9a0a-23e9bb3c4e3c",
   "metadata": {},
   "outputs": [
    {
     "name": "stdout",
     "output_type": "stream",
     "text": [
      "Total belanjaan sebelum diskon adalah Rp 660000\n",
      " Total belanjaan setelah diskon adalah Rp 594000.0\n"
     ]
    }
   ],
   "source": [
    "super1.total_price()"
   ]
  }
 ],
 "metadata": {
  "kernelspec": {
   "display_name": "Python 3 (ipykernel)",
   "language": "python",
   "name": "python3"
  },
  "language_info": {
   "codemirror_mode": {
    "name": "ipython",
    "version": 3
   },
   "file_extension": ".py",
   "mimetype": "text/x-python",
   "name": "python",
   "nbconvert_exporter": "python",
   "pygments_lexer": "ipython3",
   "version": "3.9.13"
  }
 },
 "nbformat": 4,
 "nbformat_minor": 5
}
